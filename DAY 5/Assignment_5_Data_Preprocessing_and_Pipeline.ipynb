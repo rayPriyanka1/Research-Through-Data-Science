{
  "nbformat": 4,
  "nbformat_minor": 0,
  "metadata": {
    "colab": {
      "provenance": [],
      "include_colab_link": true
    },
    "kernelspec": {
      "name": "python3",
      "display_name": "Python 3"
    },
    "language_info": {
      "name": "python"
    }
  },
  "cells": [
    {
      "cell_type": "markdown",
      "metadata": {
        "id": "view-in-github",
        "colab_type": "text"
      },
      "source": [
        "<a href=\"https://colab.research.google.com/github/rayPriyanka1/Research-Through-Data-Science/blob/main/DAY%205/Assignment_5_Data_Preprocessing_and_Pipeline.ipynb\" target=\"_parent\"><img src=\"https://colab.research.google.com/assets/colab-badge.svg\" alt=\"Open In Colab\"/></a>"
      ]
    },
    {
      "cell_type": "markdown",
      "source": [
        "# **Loading and Exploring the Dataset**"
      ],
      "metadata": {
        "id": "naEE2J6QCDlF"
      }
    },
    {
      "cell_type": "code",
      "execution_count": 2,
      "metadata": {
        "id": "kxzHrZ-S1J5-",
        "colab": {
          "base_uri": "https://localhost:8080/"
        },
        "outputId": "658bf86d-324e-4058-b08c-c05460b3a325"
      },
      "outputs": [
        {
          "output_type": "stream",
          "name": "stdout",
          "text": [
            "Mounted at /content/drive\n",
            "Number of houses: 545\n",
            "First 3 houses:       price  area  bedrooms  bathrooms  stories mainroad guestroom basement  \\\n",
            "0  13300000  7420         4          2        3      yes        no       no   \n",
            "1  12250000  8960         4          4        4      yes        no       no   \n",
            "2  12250000  9960         3          2        2      yes        no      yes   \n",
            "\n",
            "  hotwaterheating airconditioning  parking prefarea furnishingstatus  \n",
            "0              no             yes        2      yes        furnished  \n",
            "1              no             yes        3       no        furnished  \n",
            "2              no              no        2      yes   semi-furnished  \n"
          ]
        }
      ],
      "source": [
        "#Load the Data\n",
        "import pandas as pd\n",
        "import numpy as np\n",
        "from sklearn.model_selection import train_test_split\n",
        "from sklearn.preprocessing import StandardScaler\n",
        "\n",
        "# TODO: Load the housing data\n",
        "from google.colab import drive\n",
        "import warnings\n",
        "warnings.filterwarnings('ignore')\n",
        "from google.colab import drive\n",
        "drive.mount('/content/drive')\n",
        "df =pd.read_csv('/content/drive/MyDrive/Datasets/Housing.csv')\n",
        "\n",
        "\n",
        "# TODO: How many houses are there?\n",
        "print(f\"Number of houses:\",len(df))\n",
        "\n",
        "# TODO: Show first 3 houses\n",
        "print(\"First 3 houses:\",df.head(3))\n"
      ]
    },
    {
      "cell_type": "code",
      "source": [
        "# Look at Columns\n",
        "# TODO: Show all column names\n",
        "print(\"Columns:\")\n",
        "df.columns\n",
        "# Your code here"
      ],
      "metadata": {
        "id": "jY6xciSB1fGX",
        "colab": {
          "base_uri": "https://localhost:8080/"
        },
        "outputId": "85fed567-f2c3-408c-fbec-3a7c349d5cd6"
      },
      "execution_count": 3,
      "outputs": [
        {
          "output_type": "stream",
          "name": "stdout",
          "text": [
            "Columns:\n"
          ]
        },
        {
          "output_type": "execute_result",
          "data": {
            "text/plain": [
              "Index(['price', 'area', 'bedrooms', 'bathrooms', 'stories', 'mainroad',\n",
              "       'guestroom', 'basement', 'hotwaterheating', 'airconditioning',\n",
              "       'parking', 'prefarea', 'furnishingstatus'],\n",
              "      dtype='object')"
            ]
          },
          "metadata": {},
          "execution_count": 3
        }
      ]
    },
    {
      "cell_type": "markdown",
      "source": [
        "# **Encoding**"
      ],
      "metadata": {
        "id": "frMrr8DyCH5K"
      }
    },
    {
      "cell_type": "code",
      "source": [
        "#Convert Yes/No to 1/0\n",
        "# Check what's in our data\n",
        "print(\"Current mainroad values:\", df['mainroad'].head())\n",
        "# Shows: yes, no, yes, yes, no\n",
        "\n",
        "# Models need numbers, not text!\n",
        "# We need: yes → 1, no → 0\n"
      ],
      "metadata": {
        "id": "MwB1ZgVl1plX",
        "colab": {
          "base_uri": "https://localhost:8080/"
        },
        "outputId": "05de78d6-3f60-440d-c7f6-8ecfac51adf2"
      },
      "execution_count": 5,
      "outputs": [
        {
          "output_type": "stream",
          "name": "stdout",
          "text": [
            "Current mainroad values: 0    yes\n",
            "1    yes\n",
            "2    yes\n",
            "3    yes\n",
            "4    yes\n",
            "Name: mainroad, dtype: object\n"
          ]
        }
      ]
    },
    {
      "cell_type": "code",
      "source": [
        "from sklearn.preprocessing import LabelEncoder\n",
        "\n",
        "# For yes/no or male/female (2 categories only)\n",
        "label_encoder = LabelEncoder()\n",
        "\n",
        "# Convert 'mainroad' column\n",
        "df['mainroad_encoded'] = label_encoder.fit_transform(df['mainroad'])\n",
        "print(\"\\nAfter Label Encoding 'Mainroad':\")\n",
        "print(df[['mainroad', 'mainroad_encoded']])"
      ],
      "metadata": {
        "colab": {
          "base_uri": "https://localhost:8080/"
        },
        "id": "13x0KcMcN3qY",
        "outputId": "094b8ee0-b15c-4c98-be19-d794cfaf1c6d"
      },
      "execution_count": 6,
      "outputs": [
        {
          "output_type": "stream",
          "name": "stdout",
          "text": [
            "\n",
            "After Label Encoding 'Mainroad':\n",
            "    mainroad  mainroad_encoded\n",
            "0        yes                 1\n",
            "1        yes                 1\n",
            "2        yes                 1\n",
            "3        yes                 1\n",
            "4        yes                 1\n",
            "..       ...               ...\n",
            "540      yes                 1\n",
            "541       no                 0\n",
            "542      yes                 1\n",
            "543       no                 0\n",
            "544      yes                 1\n",
            "\n",
            "[545 rows x 2 columns]\n"
          ]
        }
      ]
    },
    {
      "cell_type": "code",
      "source": [
        "from sklearn.preprocessing import LabelEncoder\n",
        "\n",
        "# For yes/no or male/female (2 categories only)\n",
        "label_encoder = LabelEncoder()\n",
        "\n",
        "# Convert 'guestroom' column\n",
        "df['guestroom_encoded'] = label_encoder.fit_transform(df['guestroom'])\n",
        "print(\"\\nAfter Label Encoding 'guestroom':\")\n",
        "print(df[['guestroom', 'guestroom_encoded']])"
      ],
      "metadata": {
        "colab": {
          "base_uri": "https://localhost:8080/"
        },
        "id": "DwG5Cf23a1oN",
        "outputId": "6f6becc5-66f2-4bce-da14-7bd80dd95fe1"
      },
      "execution_count": 7,
      "outputs": [
        {
          "output_type": "stream",
          "name": "stdout",
          "text": [
            "\n",
            "After Label Encoding 'guestroom':\n",
            "    guestroom  guestroom_encoded\n",
            "0          no                  0\n",
            "1          no                  0\n",
            "2          no                  0\n",
            "3          no                  0\n",
            "4         yes                  1\n",
            "..        ...                ...\n",
            "540        no                  0\n",
            "541        no                  0\n",
            "542        no                  0\n",
            "543        no                  0\n",
            "544        no                  0\n",
            "\n",
            "[545 rows x 2 columns]\n"
          ]
        }
      ]
    },
    {
      "cell_type": "code",
      "source": [
        "from sklearn.preprocessing import LabelEncoder\n",
        "\n",
        "# For yes/no or male/female (2 categories only)\n",
        "label_encoder = LabelEncoder()\n",
        "\n",
        "# Convert 'basement' column\n",
        "df['basement_encoded'] = label_encoder.fit_transform(df['basement'])\n",
        "print(\"\\nAfter Label Encoding 'basement':\")\n",
        "print(df[['basement', 'basement_encoded']])"
      ],
      "metadata": {
        "colab": {
          "base_uri": "https://localhost:8080/"
        },
        "id": "y4gO7k7qbebU",
        "outputId": "5f81ef16-1ab1-49a9-9817-00290f63c9cd"
      },
      "execution_count": 8,
      "outputs": [
        {
          "output_type": "stream",
          "name": "stdout",
          "text": [
            "\n",
            "After Label Encoding 'basement':\n",
            "    basement  basement_encoded\n",
            "0         no                 0\n",
            "1         no                 0\n",
            "2        yes                 1\n",
            "3        yes                 1\n",
            "4        yes                 1\n",
            "..       ...               ...\n",
            "540      yes                 1\n",
            "541       no                 0\n",
            "542       no                 0\n",
            "543       no                 0\n",
            "544       no                 0\n",
            "\n",
            "[545 rows x 2 columns]\n"
          ]
        }
      ]
    },
    {
      "cell_type": "code",
      "source": [
        "from sklearn.preprocessing import LabelEncoder\n",
        "\n",
        "# For yes/no or male/female (2 categories only)\n",
        "label_encoder = LabelEncoder()\n",
        "\n",
        "# Convert 'hotwaterheating' column\n",
        "df['hotwaterheating_encoded'] = label_encoder.fit_transform(df['hotwaterheating'])\n",
        "print(\"\\nAfter Label Encoding 'hotwaterheating':\")\n",
        "print(df[['hotwaterheating', 'hotwaterheating_encoded']])"
      ],
      "metadata": {
        "colab": {
          "base_uri": "https://localhost:8080/"
        },
        "id": "oRSZ8lerb7FK",
        "outputId": "f9c03933-3875-4c81-803d-ff4ba0ffa995"
      },
      "execution_count": 9,
      "outputs": [
        {
          "output_type": "stream",
          "name": "stdout",
          "text": [
            "\n",
            "After Label Encoding 'hotwaterheating':\n",
            "    hotwaterheating  hotwaterheating_encoded\n",
            "0                no                        0\n",
            "1                no                        0\n",
            "2                no                        0\n",
            "3                no                        0\n",
            "4                no                        0\n",
            "..              ...                      ...\n",
            "540              no                        0\n",
            "541              no                        0\n",
            "542              no                        0\n",
            "543              no                        0\n",
            "544              no                        0\n",
            "\n",
            "[545 rows x 2 columns]\n"
          ]
        }
      ]
    },
    {
      "cell_type": "code",
      "source": [
        "from sklearn.preprocessing import LabelEncoder\n",
        "\n",
        "# For yes/no or male/female (2 categories only)\n",
        "label_encoder = LabelEncoder()\n",
        "\n",
        "# Convert 'airconditioning' column\n",
        "df['airconditioning_encoded'] = label_encoder.fit_transform(df['airconditioning'])\n",
        "print(\"\\nAfter Label Encoding 'airconditioning':\")\n",
        "print(df[['airconditioning', 'airconditioning_encoded']])"
      ],
      "metadata": {
        "colab": {
          "base_uri": "https://localhost:8080/"
        },
        "id": "6fPcao70cTnB",
        "outputId": "a6af30ff-9ee6-43fd-9f1b-fa27b30c2902"
      },
      "execution_count": 10,
      "outputs": [
        {
          "output_type": "stream",
          "name": "stdout",
          "text": [
            "\n",
            "After Label Encoding 'airconditioning':\n",
            "    airconditioning  airconditioning_encoded\n",
            "0               yes                        1\n",
            "1               yes                        1\n",
            "2                no                        0\n",
            "3               yes                        1\n",
            "4               yes                        1\n",
            "..              ...                      ...\n",
            "540              no                        0\n",
            "541              no                        0\n",
            "542              no                        0\n",
            "543              no                        0\n",
            "544              no                        0\n",
            "\n",
            "[545 rows x 2 columns]\n"
          ]
        }
      ]
    },
    {
      "cell_type": "code",
      "source": [
        "from sklearn.preprocessing import LabelEncoder\n",
        "\n",
        "# For yes/no or male/female (2 categories only)\n",
        "label_encoder = LabelEncoder()\n",
        "\n",
        "# Convert 'prefarea' column\n",
        "df['prefarea_encoded'] = label_encoder.fit_transform(df['prefarea'])\n",
        "print(\"\\nAfter Label Encoding 'prefarea':\")\n",
        "print(df[['prefarea', 'prefarea_encoded']])"
      ],
      "metadata": {
        "colab": {
          "base_uri": "https://localhost:8080/"
        },
        "id": "hyxgtXYbcqsZ",
        "outputId": "63fff885-f48d-44dc-844f-f13d7813396a"
      },
      "execution_count": 11,
      "outputs": [
        {
          "output_type": "stream",
          "name": "stdout",
          "text": [
            "\n",
            "After Label Encoding 'prefarea':\n",
            "    prefarea  prefarea_encoded\n",
            "0        yes                 1\n",
            "1         no                 0\n",
            "2        yes                 1\n",
            "3        yes                 1\n",
            "4         no                 0\n",
            "..       ...               ...\n",
            "540       no                 0\n",
            "541       no                 0\n",
            "542       no                 0\n",
            "543       no                 0\n",
            "544       no                 0\n",
            "\n",
            "[545 rows x 2 columns]\n"
          ]
        }
      ]
    },
    {
      "cell_type": "code",
      "source": [
        "\n",
        "# One-Hot Encoding using pandas\n",
        "furnishingstatus_encoded = pd.get_dummies(df['furnishingstatus'], prefix='furnishingstatus')\n",
        "print(\"\\nOne-Hot Encoding for 'furnishingstatus':\")\n",
        "print(furnishingstatus_encoded)\n",
        "# Creates separate columns for each furniture type\n",
        "\n",
        "# Add to original data\n",
        "df = pd.concat([df, furnishingstatus_encoded], axis=1)\n",
        "print(\"\\nFinal data with all encodings:\")\n",
        "df = df.drop(columns=df.select_dtypes(include='object').columns) #drop object type column\n",
        "print(df)"
      ],
      "metadata": {
        "colab": {
          "base_uri": "https://localhost:8080/"
        },
        "id": "K-3qf2MkvByh",
        "outputId": "47428cac-c7e3-4a9c-d912-436ec38b2881"
      },
      "execution_count": 18,
      "outputs": [
        {
          "output_type": "stream",
          "name": "stdout",
          "text": [
            "\n",
            "One-Hot Encoding for 'furnishingstatus':\n",
            "     furnishingstatus_furnished  furnishingstatus_semi-furnished  \\\n",
            "0                          True                            False   \n",
            "1                          True                            False   \n",
            "2                         False                             True   \n",
            "3                          True                            False   \n",
            "4                          True                            False   \n",
            "..                          ...                              ...   \n",
            "540                       False                            False   \n",
            "541                       False                             True   \n",
            "542                       False                            False   \n",
            "543                        True                            False   \n",
            "544                       False                            False   \n",
            "\n",
            "     furnishingstatus_unfurnished  \n",
            "0                           False  \n",
            "1                           False  \n",
            "2                           False  \n",
            "3                           False  \n",
            "4                           False  \n",
            "..                            ...  \n",
            "540                          True  \n",
            "541                         False  \n",
            "542                          True  \n",
            "543                         False  \n",
            "544                          True  \n",
            "\n",
            "[545 rows x 3 columns]\n",
            "\n",
            "Final data with all encodings:\n",
            "        price  area  bedrooms  bathrooms  stories  parking  mainroad_encoded  \\\n",
            "0    13300000  7420         4          2        3        2                 1   \n",
            "1    12250000  8960         4          4        4        3                 1   \n",
            "2    12250000  9960         3          2        2        2                 1   \n",
            "3    12215000  7500         4          2        2        3                 1   \n",
            "4    11410000  7420         4          1        2        2                 1   \n",
            "..        ...   ...       ...        ...      ...      ...               ...   \n",
            "540   1820000  3000         2          1        1        2                 1   \n",
            "541   1767150  2400         3          1        1        0                 0   \n",
            "542   1750000  3620         2          1        1        0                 1   \n",
            "543   1750000  2910         3          1        1        0                 0   \n",
            "544   1750000  3850         3          1        2        0                 1   \n",
            "\n",
            "     guestroom_encoded  basement_encoded  hotwaterheating_encoded  \\\n",
            "0                    0                 0                        0   \n",
            "1                    0                 0                        0   \n",
            "2                    0                 1                        0   \n",
            "3                    0                 1                        0   \n",
            "4                    1                 1                        0   \n",
            "..                 ...               ...                      ...   \n",
            "540                  0                 1                        0   \n",
            "541                  0                 0                        0   \n",
            "542                  0                 0                        0   \n",
            "543                  0                 0                        0   \n",
            "544                  0                 0                        0   \n",
            "\n",
            "     airconditioning_encoded  prefarea_encoded  furnishingstatus_furnished  \\\n",
            "0                          1                 1                        True   \n",
            "1                          1                 0                        True   \n",
            "2                          0                 1                       False   \n",
            "3                          1                 1                        True   \n",
            "4                          1                 0                        True   \n",
            "..                       ...               ...                         ...   \n",
            "540                        0                 0                       False   \n",
            "541                        0                 0                       False   \n",
            "542                        0                 0                       False   \n",
            "543                        0                 0                        True   \n",
            "544                        0                 0                       False   \n",
            "\n",
            "     furnishingstatus_semi-furnished  furnishingstatus_unfurnished  \\\n",
            "0                              False                         False   \n",
            "1                              False                         False   \n",
            "2                               True                         False   \n",
            "3                              False                         False   \n",
            "4                              False                         False   \n",
            "..                               ...                           ...   \n",
            "540                            False                          True   \n",
            "541                             True                         False   \n",
            "542                            False                          True   \n",
            "543                            False                         False   \n",
            "544                            False                          True   \n",
            "\n",
            "     furnishingstatus_furnished  furnishingstatus_semi-furnished  \\\n",
            "0                          True                            False   \n",
            "1                          True                            False   \n",
            "2                         False                             True   \n",
            "3                          True                            False   \n",
            "4                          True                            False   \n",
            "..                          ...                              ...   \n",
            "540                       False                            False   \n",
            "541                       False                             True   \n",
            "542                       False                            False   \n",
            "543                        True                            False   \n",
            "544                       False                            False   \n",
            "\n",
            "     furnishingstatus_unfurnished  \n",
            "0                           False  \n",
            "1                           False  \n",
            "2                           False  \n",
            "3                           False  \n",
            "4                           False  \n",
            "..                            ...  \n",
            "540                          True  \n",
            "541                         False  \n",
            "542                          True  \n",
            "543                         False  \n",
            "544                          True  \n",
            "\n",
            "[545 rows x 18 columns]\n"
          ]
        }
      ]
    },
    {
      "cell_type": "code",
      "source": [
        "\n"
      ],
      "metadata": {
        "id": "gTqZ0sgvzwyK"
      },
      "execution_count": null,
      "outputs": []
    },
    {
      "cell_type": "markdown",
      "source": [
        "# **Train-Test Split**"
      ],
      "metadata": {
        "id": "ioYtP6W8CYE2"
      }
    },
    {
      "cell_type": "code",
      "source": [
        "# Split into Train and Test\n",
        "# TODO: Split - 80% train, 20% test\n",
        "# Separate input (X) and output (y)\n",
        "X = df.drop('price', axis=1)  # Everything except Price\n",
        "y = df['price']                # Only Price\n",
        "\n",
        "\n",
        "\n",
        "# Split: 80% for training, 20% for testing\n",
        "X_train, X_test, y_train, y_test = train_test_split(\n",
        "    X, y,\n",
        "    test_size=0.2,    # 20% for test\n",
        "    random_state=20   # Same result every time\n",
        ")\n",
        "\n",
        "print(f\"\\nWe will train with: {len(X_train)} houses\")\n",
        "print(f\"We will test with: {len(X_test)} houses\")\n"
      ],
      "metadata": {
        "id": "CGWFD9Do1w2J",
        "colab": {
          "base_uri": "https://localhost:8080/"
        },
        "outputId": "7c7f1788-b92e-4de3-8bbd-6a51ab12c454"
      },
      "execution_count": 19,
      "outputs": [
        {
          "output_type": "stream",
          "name": "stdout",
          "text": [
            "\n",
            "We will train with: 436 houses\n",
            "We will test with: 109 houses\n"
          ]
        }
      ]
    },
    {
      "cell_type": "code",
      "source": [
        "#Apply StandardScaler\n",
        "# Area is huge (1650-13300), Bedrooms is small (1-6)!\n",
        "#Your Code here\n",
        "X_train.dtypes\n"
      ],
      "metadata": {
        "id": "ORsVWo8E18y1",
        "colab": {
          "base_uri": "https://localhost:8080/",
          "height": 617
        },
        "outputId": "b6603d86-6691-46b2-910a-33ba5ed28443"
      },
      "execution_count": 21,
      "outputs": [
        {
          "output_type": "execute_result",
          "data": {
            "text/plain": [
              "area                               int64\n",
              "bedrooms                           int64\n",
              "bathrooms                          int64\n",
              "stories                            int64\n",
              "parking                            int64\n",
              "mainroad_encoded                   int64\n",
              "guestroom_encoded                  int64\n",
              "basement_encoded                   int64\n",
              "hotwaterheating_encoded            int64\n",
              "airconditioning_encoded            int64\n",
              "prefarea_encoded                   int64\n",
              "furnishingstatus_furnished          bool\n",
              "furnishingstatus_semi-furnished     bool\n",
              "furnishingstatus_unfurnished        bool\n",
              "furnishingstatus_furnished          bool\n",
              "furnishingstatus_semi-furnished     bool\n",
              "furnishingstatus_unfurnished        bool\n",
              "dtype: object"
            ],
            "text/html": [
              "<div>\n",
              "<style scoped>\n",
              "    .dataframe tbody tr th:only-of-type {\n",
              "        vertical-align: middle;\n",
              "    }\n",
              "\n",
              "    .dataframe tbody tr th {\n",
              "        vertical-align: top;\n",
              "    }\n",
              "\n",
              "    .dataframe thead th {\n",
              "        text-align: right;\n",
              "    }\n",
              "</style>\n",
              "<table border=\"1\" class=\"dataframe\">\n",
              "  <thead>\n",
              "    <tr style=\"text-align: right;\">\n",
              "      <th></th>\n",
              "      <th>0</th>\n",
              "    </tr>\n",
              "  </thead>\n",
              "  <tbody>\n",
              "    <tr>\n",
              "      <th>area</th>\n",
              "      <td>int64</td>\n",
              "    </tr>\n",
              "    <tr>\n",
              "      <th>bedrooms</th>\n",
              "      <td>int64</td>\n",
              "    </tr>\n",
              "    <tr>\n",
              "      <th>bathrooms</th>\n",
              "      <td>int64</td>\n",
              "    </tr>\n",
              "    <tr>\n",
              "      <th>stories</th>\n",
              "      <td>int64</td>\n",
              "    </tr>\n",
              "    <tr>\n",
              "      <th>parking</th>\n",
              "      <td>int64</td>\n",
              "    </tr>\n",
              "    <tr>\n",
              "      <th>mainroad_encoded</th>\n",
              "      <td>int64</td>\n",
              "    </tr>\n",
              "    <tr>\n",
              "      <th>guestroom_encoded</th>\n",
              "      <td>int64</td>\n",
              "    </tr>\n",
              "    <tr>\n",
              "      <th>basement_encoded</th>\n",
              "      <td>int64</td>\n",
              "    </tr>\n",
              "    <tr>\n",
              "      <th>hotwaterheating_encoded</th>\n",
              "      <td>int64</td>\n",
              "    </tr>\n",
              "    <tr>\n",
              "      <th>airconditioning_encoded</th>\n",
              "      <td>int64</td>\n",
              "    </tr>\n",
              "    <tr>\n",
              "      <th>prefarea_encoded</th>\n",
              "      <td>int64</td>\n",
              "    </tr>\n",
              "    <tr>\n",
              "      <th>furnishingstatus_furnished</th>\n",
              "      <td>bool</td>\n",
              "    </tr>\n",
              "    <tr>\n",
              "      <th>furnishingstatus_semi-furnished</th>\n",
              "      <td>bool</td>\n",
              "    </tr>\n",
              "    <tr>\n",
              "      <th>furnishingstatus_unfurnished</th>\n",
              "      <td>bool</td>\n",
              "    </tr>\n",
              "    <tr>\n",
              "      <th>furnishingstatus_furnished</th>\n",
              "      <td>bool</td>\n",
              "    </tr>\n",
              "    <tr>\n",
              "      <th>furnishingstatus_semi-furnished</th>\n",
              "      <td>bool</td>\n",
              "    </tr>\n",
              "    <tr>\n",
              "      <th>furnishingstatus_unfurnished</th>\n",
              "      <td>bool</td>\n",
              "    </tr>\n",
              "  </tbody>\n",
              "</table>\n",
              "</div><br><label><b>dtype:</b> object</label>"
            ]
          },
          "metadata": {},
          "execution_count": 21
        }
      ]
    },
    {
      "cell_type": "markdown",
      "source": [
        "all the column are successfully converted!!!! Ready for scaling"
      ],
      "metadata": {
        "id": "53HiHFKyBEDY"
      }
    },
    {
      "cell_type": "markdown",
      "source": [
        "# **StandardScaling**"
      ],
      "metadata": {
        "id": "3P_J-iN-Cd2v"
      }
    },
    {
      "cell_type": "code",
      "source": [
        "# Create scaler\n",
        "scaler = StandardScaler()\n",
        "\n",
        "# Learn from training data and scale it\n",
        "X_train_scaled = scaler.fit_transform(X_train)\n",
        "\n",
        "# Scale test data (just transform, don't fit)\n",
        "X_test_scaled = scaler.transform(X_test)\n",
        "\n",
        "print(\"\\nAfter scaling:\")\n",
        "print(\"All features now have similar range!\")\n",
        "print(f\"Example - First house area before scaling: {X_train.values[0][0]}\")\n",
        "print(f\"Example - First house area after scaling: {X_train_scaled[0][0]:.2f}\")"
      ],
      "metadata": {
        "colab": {
          "base_uri": "https://localhost:8080/"
        },
        "id": "_bvfaYbVZ9bP",
        "outputId": "0d634a32-2ed8-4eec-86c5-6ff8c8105f65"
      },
      "execution_count": 26,
      "outputs": [
        {
          "output_type": "stream",
          "name": "stdout",
          "text": [
            "\n",
            "After scaling:\n",
            "All features now have similar range!\n",
            "Example - First house area before scaling: 4280\n",
            "Example - First house area after scaling: -0.40\n"
          ]
        }
      ]
    },
    {
      "cell_type": "markdown",
      "source": [
        "# **Model Train**"
      ],
      "metadata": {
        "id": "kqt5zQmjCjUo"
      }
    },
    {
      "cell_type": "code",
      "source": [
        "#train and test model\n",
        "\n",
        "\n",
        "from sklearn.linear_model import LogisticRegression\n",
        "\n",
        "# Create model\n",
        "model = LogisticRegression(max_iter=1000)\n",
        "\n",
        "# Train the model\n",
        "model.fit(X_train_scaled, y_train)\n",
        "print(\"✅ Model trained!\")\n",
        "\n",
        "# Check accuracy on training data\n",
        "train_score = model.score(X_train_scaled, y_train)\n",
        "print(f\"Training accuracy: {train_score:.1%}\")\n",
        "\n",
        "# Check accuracy on test data\n",
        "test_score = model.score(X_test_scaled, y_test)\n",
        "print(f\"Test accuracy: {test_score:.1%}\")"
      ],
      "metadata": {
        "id": "khBlvU-f2QnW",
        "colab": {
          "base_uri": "https://localhost:8080/"
        },
        "outputId": "398627d9-c3a8-48f1-e0df-15eb5898da54"
      },
      "execution_count": 31,
      "outputs": [
        {
          "output_type": "stream",
          "name": "stdout",
          "text": [
            "✅ Model trained!\n",
            "Training accuracy: 47.9%\n",
            "Test accuracy: 1.8%\n"
          ]
        }
      ]
    },
    {
      "cell_type": "markdown",
      "source": [
        "# **Save**"
      ],
      "metadata": {
        "id": "FbmZgJFcCsfA"
      }
    },
    {
      "cell_type": "code",
      "source": [
        "import joblib\n",
        "\n",
        "# Save the model\n",
        "joblib.dump(model, 'my_model.pkl')\n",
        "print(\"✅ Model saved as 'my_model.pkl'\")\n",
        "\n",
        "# Save the scaler\n",
        "joblib.dump(scaler, 'my_scaler.pkl')\n",
        "print(\"✅ Scaler saved as 'my_scaler.pkl'\")\n",
        "\n",
        "# Save scaled data as CSV\n",
        "pd.DataFrame(X_train_scaled).to_csv('train_data_scaled.csv', index=False)\n",
        "print(\"✅ Scaled data saved as 'train_data_scaled.csv'\")"
      ],
      "metadata": {
        "colab": {
          "base_uri": "https://localhost:8080/"
        },
        "id": "fS59hIuU17iX",
        "outputId": "90a9b7eb-e7a8-4601-f1e9-3caa6c407b31"
      },
      "execution_count": 28,
      "outputs": [
        {
          "output_type": "stream",
          "name": "stdout",
          "text": [
            "✅ Model saved as 'my_model.pkl'\n",
            "✅ Scaler saved as 'my_scaler.pkl'\n",
            "✅ Scaled data saved as 'train_data_scaled.csv'\n"
          ]
        }
      ]
    },
    {
      "cell_type": "markdown",
      "source": [
        "# **Predict New house Price**"
      ],
      "metadata": {
        "id": "JW_jfVDBCwb6"
      }
    },
    {
      "cell_type": "code",
      "source": [
        "# Predict a House Price\n",
        "# New house details:\n",
        "# area=5000, bedrooms=3, bathrooms=2, stories=2,\n",
        "# mainroad=yes, guestroom=no, basement=yes,\n",
        "# hotwaterheating=no, airconditioning=yes,\n",
        "# parking=2, prefarea=yes, furnishingstatus=furnished\n",
        "#your code here"
      ],
      "metadata": {
        "id": "no5CjmoK2aHb"
      },
      "execution_count": null,
      "outputs": []
    },
    {
      "cell_type": "code",
      "source": [
        "# Load saved model and scaler\n",
        "model = joblib.load('my_model.pkl')\n",
        "scaler = joblib.load('my_scaler.pkl')\n",
        "\n",
        "# New house data (12 features)\n",
        "import pandas as pd\n",
        "\n",
        "new_house = pd.DataFrame([{\n",
        "    \"area\": 5000,\n",
        "    \"bedrooms\": 3,\n",
        "    \"bathrooms\": 2,\n",
        "    \"stories\": 2,\n",
        "    \"mainroad_encoded\": 1,\n",
        "    \"guestroom_encoded\": 0,\n",
        "    \"basement_encoded\": 1,\n",
        "    \"hotwaterheating_encoded\": 0,\n",
        "    \"airconditioning_encoded\": 1,\n",
        "    \"parking\": 2,\n",
        "    \"prefarea_encoded\": 1,\n",
        "    \"furnishingstatus_furnished\": 1,\n",
        "    \"furnishingstatus_semi-furnished\": 0,\n",
        "    \"furnishingstatus_unfurnished\": 0\n",
        "}])[X_train.columns]\n",
        "new_house_scaled = scaler.transform(new_house)\n",
        "predicted_price = model.predict(new_house_scaled)\n",
        "print(\"Predicted house price:\", predicted_price[0])\n"
      ],
      "metadata": {
        "colab": {
          "base_uri": "https://localhost:8080/"
        },
        "id": "nm8pYycY2sR9",
        "outputId": "bb6cb41c-557c-4d2d-894d-3c949171a7fc"
      },
      "execution_count": 30,
      "outputs": [
        {
          "output_type": "stream",
          "name": "stdout",
          "text": [
            "Predicted house price: 12215000\n"
          ]
        }
      ]
    }
  ]
}