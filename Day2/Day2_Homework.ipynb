{
  "nbformat": 4,
  "nbformat_minor": 0,
  "metadata": {
    "colab": {
      "provenance": [],
      "authorship_tag": "ABX9TyPyk5kvJzMPZYRf8eYVX0Ut",
      "include_colab_link": true
    },
    "kernelspec": {
      "name": "python3",
      "display_name": "Python 3"
    },
    "language_info": {
      "name": "python"
    }
  },
  "cells": [
    {
      "cell_type": "markdown",
      "metadata": {
        "id": "view-in-github",
        "colab_type": "text"
      },
      "source": [
        "<a href=\"https://colab.research.google.com/github/rayPriyanka1/Research-Through-Data-Science/blob/main/Day2/Day2_Homework.ipynb\" target=\"_parent\"><img src=\"https://colab.research.google.com/assets/colab-badge.svg\" alt=\"Open In Colab\"/></a>"
      ]
    },
    {
      "cell_type": "markdown",
      "source": [
        "**2.1. Create variables for your name, age, and favorite color, then print them with descriptive labels.**"
      ],
      "metadata": {
        "id": "7-JcUH4u1XVg"
      }
    },
    {
      "cell_type": "code",
      "execution_count": 26,
      "metadata": {
        "colab": {
          "base_uri": "https://localhost:8080/"
        },
        "id": "yazkCrAh1WCY",
        "outputId": "f5f4550a-b84d-4d17-c4fa-5656ff6d6a64"
      },
      "outputs": [
        {
          "output_type": "stream",
          "name": "stdout",
          "text": [
            "Name: Priyanka\n",
            "Age 22\n",
            "Favourite Color is: Blue\n"
          ]
        }
      ],
      "source": [
        "name=\"Priyanka\"\n",
        "age=22\n",
        "favorite_color=\"Blue\"\n",
        "print(\"Name:\",name)\n",
        "print(\"Age\",age)\n",
        "print(\"Favourite Color is:\",favorite_color)"
      ]
    },
    {
      "cell_type": "markdown",
      "source": [
        "**2.2 Create one variable of each type and use the type() function to verify its type.**"
      ],
      "metadata": {
        "id": "98K2569L2HwG"
      }
    },
    {
      "cell_type": "code",
      "source": [
        "name=\"Priyanka\"\n",
        "age=22\n",
        "favorite_color=\"Blue\"\n",
        "price = 99.99\n",
        "is_valid = True\n",
        "list=[1,2,3,4]\n",
        "print(type(name))\n",
        "print(type(age))\n",
        "print(type(favorite_color))\n",
        "print(type(is_valid))\n",
        "print(type(list))"
      ],
      "metadata": {
        "colab": {
          "base_uri": "https://localhost:8080/"
        },
        "id": "SFYMEcYH2MCG",
        "outputId": "fa573ff3-e3de-4357-e1b6-0844fa93ab2d"
      },
      "execution_count": null,
      "outputs": [
        {
          "output_type": "stream",
          "name": "stdout",
          "text": [
            "<class 'str'>\n",
            "<class 'int'>\n",
            "<class 'str'>\n",
            "<class 'bool'>\n",
            "<class 'list'>\n"
          ]
        }
      ]
    },
    {
      "cell_type": "markdown",
      "source": [
        "**2.3 Calculate the area and perimeter of a rectangle with length 7 and width 5.**"
      ],
      "metadata": {
        "id": "9TvPNydm22Tu"
      }
    },
    {
      "cell_type": "code",
      "source": [
        "length=7\n",
        "width=5\n",
        "area=length*width\n",
        "perimeter=2*(length+width)\n",
        "print(\"Area is \",area)\n",
        "print(\"Perimeter is \",perimeter)"
      ],
      "metadata": {
        "colab": {
          "base_uri": "https://localhost:8080/"
        },
        "id": "sP39IgTD29kt",
        "outputId": "beddd2c6-d8d5-4237-df3e-5814a20ddcc0"
      },
      "execution_count": null,
      "outputs": [
        {
          "output_type": "stream",
          "name": "stdout",
          "text": [
            "Area is  35\n",
            "Perimeter is  24\n"
          ]
        }
      ]
    },
    {
      "cell_type": "markdown",
      "source": [
        "**2.4. Create a list of 5 Bangladeshi foods, then access the first and Create a list of 5 Bangladeshi foods, then access the first and last fruit**"
      ],
      "metadata": {
        "id": "CRFAckEJ3cV1"
      }
    },
    {
      "cell_type": "code",
      "source": [
        "fruits=['Apple','Mango','Banana','Orange','Lichi']\n",
        "print(\"First fruits in list is \" ,fruits[0])\n",
        "print(\"Last fruits in list is \",fruits[-1])"
      ],
      "metadata": {
        "colab": {
          "base_uri": "https://localhost:8080/"
        },
        "id": "sENFz26s3r6E",
        "outputId": "237d9612-aafe-4156-eea5-ca8818fe7bee"
      },
      "execution_count": null,
      "outputs": [
        {
          "output_type": "stream",
          "name": "stdout",
          "text": [
            "First fruits in list is  Apple\n",
            "Last fruits in list is  Lichi\n"
          ]
        }
      ]
    },
    {
      "cell_type": "markdown",
      "source": [
        "**2.5. Create a list of 5 numbers, add a new number, remove one, and then sort the list.**"
      ],
      "metadata": {
        "id": "EwBZVoPW4QL8"
      }
    },
    {
      "cell_type": "code",
      "source": [
        "list=[7,2,5,1,3]\n",
        "list.append(6)\n",
        "list.remove(2)\n",
        "list.sort()\n",
        "print(list)"
      ],
      "metadata": {
        "colab": {
          "base_uri": "https://localhost:8080/"
        },
        "id": "ow6QyfcO4WLM",
        "outputId": "9833d268-f9e6-4d71-c15e-03843e62a78b"
      },
      "execution_count": null,
      "outputs": [
        {
          "output_type": "stream",
          "name": "stdout",
          "text": [
            "[1, 3, 5, 6, 7]\n"
          ]
        }
      ]
    },
    {
      "cell_type": "markdown",
      "source": [
        "**2.6. Create a dictionary about yourself with at least 4 key-value pairs.**"
      ],
      "metadata": {
        "id": "QCFFE5hV4-Rz"
      }
    },
    {
      "cell_type": "code",
      "source": [
        "myself={\n",
        "    \"name\":\"Priyanka\",\n",
        "    \"Age\":22,\n",
        "    \"university\": \"SUB\",\n",
        "    \"email\":\"priyankaray.d20@gmail.com\"\n",
        "\n",
        "}\n",
        "print(myself)"
      ],
      "metadata": {
        "colab": {
          "base_uri": "https://localhost:8080/"
        },
        "id": "A6ePZrJp5Fp7",
        "outputId": "d4fc0e06-6815-4cbe-dfef-46fec075703c"
      },
      "execution_count": null,
      "outputs": [
        {
          "output_type": "stream",
          "name": "stdout",
          "text": [
            "{'name': 'Priyanka', 'Age': 22, 'university': 'SUB', 'email': 'priyankaray.d20@gmail.com'}\n"
          ]
        }
      ]
    },
    {
      "cell_type": "markdown",
      "source": [
        "**2.7. Create a tuple with the latitude and longitude of a famous place in Bangladesh**"
      ],
      "metadata": {
        "id": "Zl2nBRXG_aH3"
      }
    },
    {
      "cell_type": "code",
      "source": [
        "dhaka_location = (23.8103, 90.4125)\n",
        "\n",
        "print(\"Latitude and Longitude of Dhaka are :\", dhaka_location)"
      ],
      "metadata": {
        "colab": {
          "base_uri": "https://localhost:8080/"
        },
        "id": "DkAdR21uU2Zr",
        "outputId": "05e44b51-d4ff-4afd-de86-f8bcd96d2a67"
      },
      "execution_count": 25,
      "outputs": [
        {
          "output_type": "stream",
          "name": "stdout",
          "text": [
            "Latitude and Longitude of Dhaka are : (23.8103, 90.4125)\n"
          ]
        }
      ]
    },
    {
      "cell_type": "markdown",
      "source": [
        "**2.8.  Create two sets of colors and find their union and intersection.**"
      ],
      "metadata": {
        "id": "HsiRwwTvFEGc"
      }
    },
    {
      "cell_type": "code",
      "source": [
        "set1={\"red\",\"green\",\"white\"}\n",
        "set2={\"blue\",\"white\",\"purple\"}\n",
        "Ans1=set1|set2\n",
        "Ans2=set1 & set2\n",
        "print(\"set1 union set2 is \",Ans1)\n",
        "print(\"set1 intersection set2 is \",Ans2)"
      ],
      "metadata": {
        "colab": {
          "base_uri": "https://localhost:8080/"
        },
        "id": "az6FGyPagNeO",
        "outputId": "d3385ce7-6224-46df-a88a-f43b6a011d83"
      },
      "execution_count": 22,
      "outputs": [
        {
          "output_type": "stream",
          "name": "stdout",
          "text": [
            "set1 union set2 is  {'red', 'green', 'blue', 'purple', 'white'}\n",
            "set1 intersection set2 is  {'white'}\n"
          ]
        }
      ]
    },
    {
      "cell_type": "markdown",
      "source": [
        "2.9.Write a Program that checks if a number positive, negetive or zero"
      ],
      "metadata": {
        "id": "7gE3Eqc0cvWH"
      }
    },
    {
      "cell_type": "code",
      "source": [
        "number=int(input(\"Enter the number: \"))\n",
        "if number>0:\n",
        "    print(\" Given number is positive!\")\n",
        "elif number<0:\n",
        "    print(\" Given number is Negetive!\")\n",
        "else:\n",
        "    print(\" Given number is Zero!!\")"
      ],
      "metadata": {
        "id": "rkUgDffK_mZW",
        "colab": {
          "base_uri": "https://localhost:8080/"
        },
        "outputId": "6926b35a-2719-4c90-bd24-2014f197029a"
      },
      "execution_count": 5,
      "outputs": [
        {
          "output_type": "stream",
          "name": "stdout",
          "text": [
            "Enter the number: 0\n",
            " Given number is Zero!!\n"
          ]
        }
      ]
    },
    {
      "cell_type": "markdown",
      "source": [
        "2.10.Write A Program Eligibility for a Discount( Student AND under 25, OR senior over 60)"
      ],
      "metadata": {
        "id": "WlMytSYme1ib"
      }
    },
    {
      "cell_type": "code",
      "source": [
        "\n",
        "is_student = input(\"Are you a student? (yes/no): \").lower()\n",
        "age = int(input(\"Enter your age: \"))\n",
        "\n",
        "if (is_student == 'yes' and age < 25) or (age > 60):\n",
        "    print(\"You are eligible.\")\n",
        "else:\n",
        "    print(\"Sorry, you are not eligible.\")"
      ],
      "metadata": {
        "colab": {
          "base_uri": "https://localhost:8080/"
        },
        "id": "dQbaCV3Wfu70",
        "outputId": "a5720b83-3e27-4263-9dca-3c51020607a1"
      },
      "execution_count": 20,
      "outputs": [
        {
          "output_type": "stream",
          "name": "stdout",
          "text": [
            "Are you a student? (yes/no): yes\n",
            "Enter your age: 20\n",
            "You are eligible.\n"
          ]
        }
      ]
    },
    {
      "cell_type": "markdown",
      "source": [
        "2.11.Write a Program that prints the first 100 even numbers using for loop"
      ],
      "metadata": {
        "id": "D2AAVZNdgoz-"
      }
    },
    {
      "cell_type": "code",
      "source": [
        "\n",
        "print(\"All the even numbers from 1 to 100\")\n",
        "for i in range(1,101):\n",
        "    if i%2==0:\n",
        "        print(i)"
      ],
      "metadata": {
        "colab": {
          "base_uri": "https://localhost:8080/"
        },
        "id": "I_0DNSpwhdat",
        "outputId": "c366c4a7-a5b6-480a-fa19-3f368d6df258"
      },
      "execution_count": 8,
      "outputs": [
        {
          "output_type": "stream",
          "name": "stdout",
          "text": [
            "All the even numbers from 1 to 100\n",
            "2\n",
            "4\n",
            "6\n",
            "8\n",
            "10\n",
            "12\n",
            "14\n",
            "16\n",
            "18\n",
            "20\n",
            "22\n",
            "24\n",
            "26\n",
            "28\n",
            "30\n",
            "32\n",
            "34\n",
            "36\n",
            "38\n",
            "40\n",
            "42\n",
            "44\n",
            "46\n",
            "48\n",
            "50\n",
            "52\n",
            "54\n",
            "56\n",
            "58\n",
            "60\n",
            "62\n",
            "64\n",
            "66\n",
            "68\n",
            "70\n",
            "72\n",
            "74\n",
            "76\n",
            "78\n",
            "80\n",
            "82\n",
            "84\n",
            "86\n",
            "88\n",
            "90\n",
            "92\n",
            "94\n",
            "96\n",
            "98\n",
            "100\n"
          ]
        }
      ]
    },
    {
      "cell_type": "markdown",
      "source": [
        "2.12.Write a Program to print simple pyramid pattern using the nested loop"
      ],
      "metadata": {
        "id": "ckS0kbE8iv9F"
      }
    },
    {
      "cell_type": "code",
      "source": [
        "n=int(input(\"Number of rows \"))\n",
        "for i in range(1,n+1):\n",
        "    for j in range(n-i):\n",
        "        print(\" \",end=\"\")\n",
        "    for j in range(2*i-1):\n",
        "        print(\"*\",end=\"\")\n",
        "    print()"
      ],
      "metadata": {
        "colab": {
          "base_uri": "https://localhost:8080/"
        },
        "id": "JMqhki51i_La",
        "outputId": "d28f21fa-4675-4548-9afa-67295e57dd60"
      },
      "execution_count": 18,
      "outputs": [
        {
          "output_type": "stream",
          "name": "stdout",
          "text": [
            "Number of rows 5\n",
            "    *\n",
            "   ***\n",
            "  *****\n",
            " *******\n",
            "*********\n"
          ]
        }
      ]
    },
    {
      "cell_type": "markdown",
      "source": [
        "**2.13. Create a function that converts temperature from Celsius to Fahrenheit using the formula: F = (C × 9/5) + 32**"
      ],
      "metadata": {
        "id": "wFcuvx5txOnR"
      }
    },
    {
      "cell_type": "code",
      "source": [
        "def converter(c):\n",
        "    temp=9/5\n",
        "    F=(c*temp)+32\n",
        "    return F\n",
        "c=float(input(\"Enter the temperature in Celcius: \"))\n",
        "result=converter(c)\n",
        "print(\" Temperatures in farherniate: \",result, \"°\",\"F\")"
      ],
      "metadata": {
        "id": "Ev7FAK1mz2C5",
        "colab": {
          "base_uri": "https://localhost:8080/"
        },
        "outputId": "2bae9da0-4d68-40a6-9057-959e68b38679"
      },
      "execution_count": 3,
      "outputs": [
        {
          "output_type": "stream",
          "name": "stdout",
          "text": [
            "Enter the temperature in Celcius: 29\n",
            " Temperatures in farherniate:  84.2 ° F\n"
          ]
        }
      ]
    },
    {
      "cell_type": "markdown",
      "source": [
        "**2.14 Try it yourself: Create a function with default parameters that calculates the area of a rectangle.**"
      ],
      "metadata": {
        "id": "KgQljddqFH20"
      }
    },
    {
      "cell_type": "code",
      "source": [
        "def rectangularArea(l=5,w=3):\n",
        "    return l*w\n",
        "print(\"Area with default value: \",rectangularArea())\n",
        "a=int(input(\"enter a: \"))\n",
        "b=int(input(\"enter b: \"))\n",
        "print(\"Area with custom value: \",rectangularArea(a,b))\n"
      ],
      "metadata": {
        "colab": {
          "base_uri": "https://localhost:8080/"
        },
        "id": "opEjEpitxRw5",
        "outputId": "04b97a24-4b42-4e17-d298-50d92dcaf2db"
      },
      "execution_count": null,
      "outputs": [
        {
          "output_type": "stream",
          "name": "stdout",
          "text": [
            "Area with default value:  15\n",
            "enter a: 10\n",
            "enter b: 10\n",
            "Area with custom value:  100\n"
          ]
        }
      ]
    }
  ]
}